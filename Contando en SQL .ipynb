{
 "cells": [
  {
   "cell_type": "markdown",
   "id": "exposed-dodge",
   "metadata": {},
   "source": [
    "## Contando en SQL \n"
   ]
  },
  {
   "cell_type": "markdown",
   "id": "russian-daniel",
   "metadata": {},
   "source": [
    "Pensemos un segundo en tenemos un tabla de clientes, nueva o de la cual unimos con otra sucursal ect, y que el CEO o los directivos de una empresa necesitan saber cuántos clientes nuevos se han registrado en el negocio\n",
    "\n",
    "Contar es uno de los problemas con los que te enfrentas típicamente en análisis de datos, probablemente suene sencillo, contar es una de las primeras habilidades que aprendemos desde pequeños sin embargo la cuestión no es que tengas la habilidad sino como transformas la habilidad en conocimiento, es decir no basta con saber usar una herramienta sino en cómo te planteas el problema para poder resolver.\n",
    "\n",
    "Imaginemos la siguiente tabla:\n"
   ]
  },
  {
   "cell_type": "markdown",
   "id": "measured-nepal",
   "metadata": {},
   "source": [
    "![](tabla.png)"
   ]
  },
  {
   "cell_type": "markdown",
   "id": "altered-compound",
   "metadata": {},
   "source": [
    "Formular el problema es lo primero que necesitamos, para formular debemos comprender, y desarrollar un método o pipeline de resolución.\n",
    "\n",
    "Queremos saber cuántos usuarios nuevos se han agregado cada día.\n",
    "Tenemos las columnas \n",
    "- create_at: corresponde a la fecha en la que el usuario fue agregado\n",
    "- deleted_at: que corresponde la fecha de cuando el usuario fue borrado\n",
    "- id: identificador unico\n",
    "- merged_at: se refiere a usuarios que fueron añadidos desde otra base de datos\n",
    "- parent_user_id : el id correspondiente a la tabla donde se encontraba el usuario antes\n",
    "\n",
    "Qué hacer:\n",
    "- Necesitamos saber cuántos clientes hay registrados por día.\n",
    "- Conocer quienes han sido eliminados por día\n",
    "- Determinar que usuarios se refieren a un mismo usuario (con otra id por ejm) proveniente desde otra DB o tabla por día.\n",
    "- Substraer los usuarios eliminados (clientes que ya no pertenecen a la BD) y los usuarios con el mismo id.\n",
    "\n"
   ]
  },
  {
   "cell_type": "markdown",
   "id": "alone-caution",
   "metadata": {},
   "source": [
    "Veamos primero qué relación hay entre las columnas de identificación:"
   ]
  },
  {
   "cell_type": "markdown",
   "id": "previous-doubt",
   "metadata": {},
   "source": [
    "~~~~sql\n",
    "SELECT\n",
    "id \n",
    ",parent_user_id, \n",
    "merged_at,\n",
    "FROM dsv1069.users \n",
    "ORDER BY parent_user_id ASC\n",
    "~~~~"
   ]
  },
  {
   "cell_type": "markdown",
   "id": "selective-statistics",
   "metadata": {},
   "source": [
    "Podemos observar que hay usuarios  que en una primera entrada(parent_user_id)  comparten la identificación en la nueva tabla y hay otros usuarios que no, estos ids que no son iguales serán excluidos ya que se encuentran igualmente en la tabla y equivalen a los mismos usuarios."
   ]
  },
  {
   "cell_type": "markdown",
   "id": "fleet-diagnosis",
   "metadata": {},
   "source": [
    "![](review.png)"
   ]
  },
  {
   "cell_type": "markdown",
   "id": "refined-assets",
   "metadata": {},
   "source": [
    "Además de eso podemos tener solo en cuenta filas donde la columna delete_at sea Null, es decir, si en la fila delete_at no hay valores quiere decir que los usuarios existen o no han sido eliminados, igualmente si en la columna parent_user_id es null, quiere decir que ese registro posee un único id del cual podemos confiar.\n",
    "\n",
    "Veamos cómo podemos escribir esto en todo esto en SQL\n"
   ]
  },
  {
   "cell_type": "markdown",
   "id": "naughty-springfield",
   "metadata": {},
   "source": [
    "~~~~sql\n",
    "SELECT \n",
    "    date(created_at) AS day,\n",
    "    COUNT(*) AS users\n",
    "FROM \n",
    "    dsv1069.users\n",
    "WHERE \n",
    "    deleted_at IS NULL\n",
    "    AND\n",
    "        (id <> parent_user_id OR parent_user_id IS NULL)\n",
    "GROUP BY \n",
    "    date(created_at)\n",
    "~~~~"
   ]
  },
  {
   "cell_type": "markdown",
   "id": "municipal-extraction",
   "metadata": {},
   "source": [
    "![](figure1.png)\n"
   ]
  },
  {
   "cell_type": "markdown",
   "id": "studied-blade",
   "metadata": {},
   "source": [
    "Esto nos da una idea de cuantos clientes se agregan por día, pero no está tomando en cuenta los clientes eliminados ese día,\n",
    "para tomar en cuenta los clientes eliminados deberemos seleccionar los registros con valores presentes en la columna deleted_at, contarlos y agruparlos, todo esto teniendo en cuenta el total de clientes que tenemos por día, para luego restarlo.\n",
    "\n",
    "\n",
    "Una explicación sencilla: \n",
    "### Query\n",
    "- Columna con clientes totales por día\n",
    "- Columna con clientes borrados por dia\n",
    "#### Subqueries\n",
    "     - Total de clientes agregados por día\n",
    "     - Total de clientes eliminados por día\n",
    "\n",
    "\n",
    "Y hacer una substracción."
   ]
  },
  {
   "cell_type": "markdown",
   "id": "spatial-vermont",
   "metadata": {},
   "source": [
    "~~~~sql\n",
    "SELECT \n",
    "new.day, \n",
    "new.new_users_added,\n",
    "deleted.deleted_users AS deleted_users\n",
    "FROM(\n",
    "-- TOTAL USERS\n",
    "SELECT \n",
    "  date(created_at) AS day,\n",
    "  COUNT(*) AS new_users_added\n",
    "  FROM \n",
    "  dsv1069.users\n",
    "  GROUP BY \n",
    "  date(created_at)\n",
    "  ) new \n",
    "  -- DELETE USERS\n",
    "  LEFT JOIN \n",
    "    (SELECT \n",
    "    date(deleted_at) AS day,\n",
    "    COUNT(*) AS deleted_users \n",
    "    FROM \n",
    "    dsv1069.users \n",
    "    WHERE deleted_at IS NOT NULL \n",
    "    GROUP BY \n",
    "    date(deleted_at)\n",
    "    ) deleted\n",
    "  ON deleted.day = new.day\n",
    "\n",
    "~~~~"
   ]
  },
  {
   "cell_type": "markdown",
   "id": "supreme-export",
   "metadata": {},
   "source": [
    "![](figure2.png)"
   ]
  },
  {
   "cell_type": "markdown",
   "id": "opened-bottom",
   "metadata": {},
   "source": [
    "Ok, ahora esto va teniendo más sentido.\n",
    "\n",
    "Ahora contemos  a los usuarios con distinta id pero que ya estan en la tabla"
   ]
  },
  {
   "cell_type": "markdown",
   "id": "several-green",
   "metadata": {},
   "source": [
    "~~~~sql\n",
    "SELECT \n",
    "new.day, \n",
    "new.new_users_added,\n",
    "COALESCE(deleted.deleted_users,0) AS deleted_users,\n",
    "COALESCE(merged.merged_users,0) AS merged_users,\n",
    "(new.new_users_added - COALESCE(deleted.deleted_users,0) - COALESCE(merged.merged_users,0)) AS net_added_users\n",
    "FROM(\n",
    "SELECT \n",
    "  date(created_at) AS day,\n",
    "  COUNT(*) AS new_users_added\n",
    "  FROM \n",
    "  dsv1069.users\n",
    "  GROUP BY \n",
    "  date(created_at)\n",
    "  ) new \n",
    "  -- DELETE USERS\n",
    "  LEFT JOIN \n",
    "    (SELECT \n",
    "    date(deleted_at) AS day,\n",
    "    COUNT(*) AS deleted_users \n",
    "    FROM \n",
    "    dsv1069.users \n",
    "    WHERE deleted_at IS NOT NULL \n",
    "    GROUP BY \n",
    "    date(deleted_at)\n",
    "    ) deleted\n",
    "  ON deleted.day = new.day\n",
    "  -- MERGED USERS\n",
    "  LEFT JOIN \n",
    "  (SELECT \n",
    "  date(merged_at) AS day,\n",
    "  COUNT(*) AS merged_users\n",
    "  FROM dsv1069.users\n",
    "  WHERE \n",
    "  id <> parent_user_id \n",
    "  AND \n",
    "  parent_user_id IS NOT NULL \n",
    "  GROUP BY \n",
    "  date(merged_at)\n",
    "  ) merged\n",
    "  ON merged.day = new.day \n",
    "  ORDER BY new_users_added DESC\n",
    "~~~~"
   ]
  },
  {
   "cell_type": "markdown",
   "id": "nuclear-meaning",
   "metadata": {},
   "source": [
    "![](final_table.PNG)"
   ]
  },
  {
   "cell_type": "markdown",
   "id": "peripheral-roberts",
   "metadata": {},
   "source": [
    "![](graph_final.PNG)"
   ]
  },
  {
   "cell_type": "markdown",
   "id": "surface-reconstruction",
   "metadata": {},
   "source": [
    "Bueno, esto es todo, espero te hayas divertido y encontrado sentido al hecho de que contar no solo se trata de conocer las cantidades sino que con un poco de astucia puedes desarollar operaciones bastante divertidas, hasta pronto."
   ]
  },
  {
   "cell_type": "code",
   "execution_count": null,
   "id": "cross-light",
   "metadata": {},
   "outputs": [],
   "source": []
  }
 ],
 "metadata": {
  "kernelspec": {
   "display_name": "Python 3",
   "language": "python",
   "name": "python3"
  },
  "language_info": {
   "codemirror_mode": {
    "name": "ipython",
    "version": 3
   },
   "file_extension": ".py",
   "mimetype": "text/x-python",
   "name": "python",
   "nbconvert_exporter": "python",
   "pygments_lexer": "ipython3",
   "version": "3.9.1"
  }
 },
 "nbformat": 4,
 "nbformat_minor": 5
}
